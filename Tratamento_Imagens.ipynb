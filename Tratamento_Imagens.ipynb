{
 "cells": [
  {
   "cell_type": "code",
   "execution_count": null,
   "metadata": {
    "scrolled": true
   },
   "outputs": [],
   "source": [
    "import matplotlib.pyplot as plt\n",
    "import matplotlib.patches as patches\n",
    "from PIL import Image\n",
    "import numpy as np\n",
    "import pandas as pd\n",
    "\n",
    "df = pd.read_csv('Dados.csv')\n",
    "\n",
    "dic_defeitos = {'sound':'',\n",
    "                'wane':'Wane',\n",
    "                'split':'Split',\n",
    "                'sound_knot':'So_K',\n",
    "                'dry_knot':'Dry_K',\n",
    "                'small_knot':'Sm_K',\n",
    "                'core_stripe':'Co_S',\n",
    "                'mould':'Mould',\n",
    "                'edge_knot':'Ed_K',\n",
    "                'horn_knot':'Ho_K',\n",
    "                'encased_knot':'En_E',\n",
    "                'resin_pocket':'Re_P',\n",
    "                'UNKNOWN':'UK',\n",
    "                'leaf_knot':'Le_K',\n",
    "                'resin':'Resin',\n",
    "                'bark_pocket':'Ba_P',\n",
    "                'knot_hole':'Kn_H',\n",
    "                'decayed_knot':'De_K',\n",
    "                'moustache_knot':'Mo_K'\n",
    "               }\n",
    "\n",
    "\n",
    "filename = df['image'].unique()\n",
    "quantidade = df['image'].nunique()\n",
    "for linha in range(0,quantidade):\n",
    "    try:\n",
    "        image = Image.open('Imagens_Originais/' + filename[linha] + '.jpg')\n",
    "        my_dpi=96.\n",
    "        fig=plt.figure(figsize=(float(image.size[0])/my_dpi,float(image.size[1])/my_dpi),dpi=my_dpi)\n",
    "        ax=fig.add_subplot(111)\n",
    "        fig.subplots_adjust(left=0,right=1,bottom=0,top=1)\n",
    "        ax.imshow(image)\n",
    "        linhas = len(df[df['image'] == filename[linha]])\n",
    "        for indice in range(0,linhas):\n",
    "            df2 = df[df['image'] == filename[linha]]\n",
    "            rect_base = (int(df2.iloc[indice][2]),int(df2.iloc[indice][1]))\n",
    "            x_width = int(df2.iloc[indice][7])\n",
    "            y_lenght = int(df2.iloc[indice][6])    \n",
    "            rect = patches.Rectangle(rect_base,x_width,y_lenght,linewidth=1,edgecolor='r',facecolor='none')\n",
    "            ax.add_patch(rect)\n",
    "            x_text = rect_base[0] + x_width/2\n",
    "            y_text = rect_base[1] + y_lenght/2        \n",
    "            ax.text(x_text,y_text,dic_defeitos[df2.iloc[indice][5]],color='w',ha='center',va='center')\n",
    "        plt.show(block=False)\n",
    "        fig.savefig('Testes2/' + filename[linha] + '_tr.png')\n",
    "        print(f'Tratando imagem {filename[linha]}/{quantidade}')\n",
    "        fig.close('all')\n",
    "    except:\n",
    "            pass\n"
   ]
  }
 ],
 "metadata": {
  "kernelspec": {
   "display_name": "Python 3",
   "language": "python",
   "name": "python3"
  },
  "language_info": {
   "codemirror_mode": {
    "name": "ipython",
    "version": 3
   },
   "file_extension": ".py",
   "mimetype": "text/x-python",
   "name": "python",
   "nbconvert_exporter": "python",
   "pygments_lexer": "ipython3",
   "version": "3.7.3"
  }
 },
 "nbformat": 4,
 "nbformat_minor": 2
}
