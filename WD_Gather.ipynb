{
 "cells": [
  {
   "cell_type": "code",
   "execution_count": null,
   "metadata": {},
   "outputs": [],
   "source": [
    "\"\"\"\n",
    "O primeiro objetivo é fazer o download dos 838 arquivos .gz\n",
    "No caso vamos fazer o download no diretório onde está esse código e mover o arquivo para a pasta Compactados\n",
    "\"\"\"\n",
    "\n",
    "import urllib.request\n",
    "from pathlib import Path\n",
    "import os\n",
    "\n",
    "p = Path('Compactados')\n",
    "if not p.exists():\n",
    "    p.mkdir()\n",
    "\n",
    "url = 'http://www.ee.oulu.fi/research/imag/wood/WOOD/IMAGES/'\n",
    "\n",
    "\n",
    "for id_arquivo in range(12,851):\n",
    "    try:\n",
    "        code = 'st' + str(id_arquivo + 1000) + '.gz'\n",
    "        urllib.request.urlretrieve(url + code,code)\n",
    "        print(f'Downloading {id_arquivo - 11}/850')\n",
    "    except:\n",
    "        print(f'Error downloading {id_arquivo - 11}/850')\n",
    "    os.replace(code, str(p) + '/' + code)\n",
    "\n",
    "        \n"
   ]
  },
  {
   "cell_type": "code",
   "execution_count": null,
   "metadata": {},
   "outputs": [],
   "source": [
    "\"\"\"\n",
    "Agora precisamos descompactar e renomear todos os arquivos, caso perceba o arquivo interno possue o mesmo nome\n",
    "para todos os arquivos .gz\n",
    "\n",
    "Após extrair e renomear os arquivos, criamos uma conversão dos arquivos .ppm para .jpg utilizando o mesmo nome.\n",
    "\"\"\"\n",
    "\n",
    "import gzip\n",
    "import cv2\n",
    "from pathlib import Path\n",
    "\n",
    "\n",
    "def cria_pasta(Nome):\n",
    "    p = Path(Nome)\n",
    "    if not p.exists():\n",
    "        p.mkdir()\n",
    "cria_pasta('Compactados')\n",
    "cria_pasta('Imagens_PPM')\n",
    "cria_pasta('Imagens_Originais')\n",
    "\n",
    "for id_arquivo in range(12,15):\n",
    "    arquivo = str(id_arquivo + 1000)\n",
    "    input = gzip.GzipFile(\"Compactados/st\" + arquivo + \".gz\", 'rb')\n",
    "    s = input.read()\n",
    "    input.close()\n",
    "\n",
    "    output = open(\"Imagens_PPM/st\" + arquivo + \".ppm\", 'wb')\n",
    "    output.write(s)\n",
    "    output.close()\n",
    "\n",
    "    print(f\"Arquivo {id_arquivo - 11}/850 extraído.\")\n",
    "\n",
    "\n",
    "for id_arquivo in range(12,15):\n",
    "    arquivo = str(id_arquivo + 1000)\n",
    "    imagem = cv2.imread('Imagens_PPM/st' + arquivo + '.ppm')\n",
    "    cv2.imwrite('Imagens_Originais/st'+ arquivo + '.jpg',imagem)\n",
    "    print(f\"Arquivo {id_arquivo - 11}/850 convertido.\")\n"
   ]
  }
 ],
 "metadata": {
  "kernelspec": {
   "display_name": "Python 3",
   "language": "python",
   "name": "python3"
  },
  "language_info": {
   "codemirror_mode": {
    "name": "ipython",
    "version": 3
   },
   "file_extension": ".py",
   "mimetype": "text/x-python",
   "name": "python",
   "nbconvert_exporter": "python",
   "pygments_lexer": "ipython3",
   "version": "3.7.3"
  }
 },
 "nbformat": 4,
 "nbformat_minor": 2
}
