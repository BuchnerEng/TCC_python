{
 "cells": [
  {
   "cell_type": "code",
   "execution_count": null,
   "metadata": {},
   "outputs": [],
   "source": [
    "\"\"\"\n",
    "O primeiro objetivo é fazer o download dos 838 arquivos .gz\n",
    "No caso vamos fazer o download no diretório onde está esse código.\n",
    "\"\"\"\n",
    "\n",
    "import urllib.request\n",
    "\n",
    "url = 'http://www.ee.oulu.fi/research/imag/wood/WOOD/IMAGES/'\n",
    "\n",
    "\n",
    "for i in range(12,851):\n",
    "    try:\n",
    "        code = 'st' + str(i + 1000) + '.gz'\n",
    "        urllib.request.urlretrieve(url + code,code)\n",
    "        print(f'Downloading {i}/850')\n",
    "    except:\n",
    "        print(f'Error downloading {i}/850')"
   ]
  },
  {
   "cell_type": "code",
   "execution_count": null,
   "metadata": {},
   "outputs": [],
   "source": [
    "\"\"\"\n",
    "Agora precisamos descompactar e renomear todos os arquivos, caso perceba o arquivo interno possue o mesmo nome\n",
    "para todos os arquivos .gz\n",
    "\n",
    "Após extrair e renomear os arquivos, criamos uma conversão dos arquivos .ppm para .jpg utilizando o mesmo nome.\n",
    "\"\"\"\n",
    "\n",
    "import gzip\n",
    "import cv2\n",
    "\n",
    "\n",
    "for i in range(12,851):\n",
    "    arquivo = str(i + 1000)\n",
    "    input = gzip.GzipFile(\"Compactados/st\" + arquivo + \".gz\", 'rb')\n",
    "    s = input.read()\n",
    "    input.close()\n",
    "\n",
    "    output = open(\"Compactados/Resultado/st\" + arquivo + \".ppm\", 'wb')\n",
    "    output.write(s)\n",
    "    output.close()\n",
    "\n",
    "    print(f\"Arquivo {i}/850 extraído.\")\n",
    "\n",
    "\n",
    "for i in range(12,851):\n",
    "    arquivo = str(i + 1000)\n",
    "    i = cv2.imread('Compactados/Resultado/st' + arquivo + '.ppm')\n",
    "    cv2.imwrite('Compactados/Resultado/st'+ arquivo + '.jpg',i)\n",
    "        print(f\"Arquivo {i}/850 convertido.\")\n"
   ]
  }
 ],
 "metadata": {
  "kernelspec": {
   "display_name": "Python 3",
   "language": "python",
   "name": "python3"
  },
  "language_info": {
   "codemirror_mode": {
    "name": "ipython",
    "version": 3
   },
   "file_extension": ".py",
   "mimetype": "text/x-python",
   "name": "python",
   "nbconvert_exporter": "python",
   "pygments_lexer": "ipython3",
   "version": "3.7.3"
  }
 },
 "nbformat": 4,
 "nbformat_minor": 2
}
