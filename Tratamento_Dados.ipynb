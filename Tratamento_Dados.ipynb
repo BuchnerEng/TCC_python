{
 "cells": [
  {
   "cell_type": "code",
   "execution_count": 4,
   "metadata": {},
   "outputs": [
    {
     "name": "stdout",
     "output_type": "stream",
     "text": [
      "<class 'pandas.core.frame.DataFrame'>\n",
      "RangeIndex: 31760 entries, 0 to 31759\n",
      "Data columns (total 6 columns):\n",
      "image    31760 non-null object\n",
      "min_y    31760 non-null int64\n",
      "min_x    31760 non-null int64\n",
      "max_y    31760 non-null int64\n",
      "max_x    31760 non-null int64\n",
      "label    31760 non-null object\n",
      "dtypes: int64(4), object(2)\n",
      "memory usage: 1.5+ MB\n"
     ]
    }
   ],
   "source": [
    "import pandas as pd\n",
    "import numpy as np\n",
    "import matplotlib.pyplot as plt\n",
    "import seaborn as sns\n",
    "%matplotlib inline\n",
    "sns.set(style='darkgrid')\n",
    "\n",
    "df = pd.read_excel('Dados.xlsx')\n",
    "df.info()\n"
   ]
  },
  {
   "cell_type": "code",
   "execution_count": 13,
   "metadata": {},
   "outputs": [
    {
     "name": "stdout",
     "output_type": "stream",
     "text": [
      "837\n",
      "19\n",
      "['sound' 'dry_knot' 'resin' 'resin_pocket' 'sound_knot' 'encased_knot'\n",
      " 'edge_knot' 'moustache_knot' 'leaf_knot' 'core_stripe' 'horn_knot'\n",
      " 'small_knot' 'split' 'wane' 'knot_hole' 'UNKNOWN' 'bark_pocket' 'mould'\n",
      " 'decayed_knot']\n"
     ]
    },
    {
     "data": {
      "text/plain": [
       "label\n",
       "UNKNOWN             137\n",
       "bark_pocket          55\n",
       "core_stripe         340\n",
       "decayed_knot         37\n",
       "dry_knot            474\n",
       "edge_knot           155\n",
       "encased_knot        142\n",
       "horn_knot           145\n",
       "knot_hole            53\n",
       "leaf_knot           126\n",
       "mould               261\n",
       "moustache_knot       30\n",
       "resin                60\n",
       "resin_pocket        139\n",
       "small_knot          369\n",
       "sound             25808\n",
       "sound_knot          553\n",
       "split               750\n",
       "wane               2126\n",
       "Name: image, dtype: int64"
      ]
     },
     "execution_count": 13,
     "metadata": {},
     "output_type": "execute_result"
    }
   ],
   "source": [
    "df.head()\n",
    "\n",
    "print(df['image'].nunique())\n",
    "print(df['label'].nunique())\n",
    "print(df['label'].unique())\n",
    "\n",
    "df.groupby(['label']).count()['image']"
   ]
  }
 ],
 "metadata": {
  "kernelspec": {
   "display_name": "Python 3",
   "language": "python",
   "name": "python3"
  },
  "language_info": {
   "codemirror_mode": {
    "name": "ipython",
    "version": 3
   },
   "file_extension": ".py",
   "mimetype": "text/x-python",
   "name": "python",
   "nbconvert_exporter": "python",
   "pygments_lexer": "ipython3",
   "version": "3.7.3"
  }
 },
 "nbformat": 4,
 "nbformat_minor": 2
}
